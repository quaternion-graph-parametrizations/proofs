{
 "cells": [
  {
   "cell_type": "markdown",
   "metadata": {},
   "source": [
    "Symbolic verification of the matrix reduction computing the parametrisation result for direction $0$ in the paper."
   ]
  },
  {
   "cell_type": "code",
   "execution_count": 1,
   "metadata": {},
   "outputs": [],
   "source": [
    "K.<p, ln> = PolynomialRing(Rationals())\n",
    "\n",
    "dir0_basis = matrix([\n",
    "    [1,                                      0,      0,         1/2],\n",
    "    [0, ((p^2)/ln) + p*(ln-1)*(2*p-4*ln)-2*p+1, p*ln/2, -p*(ln-1)/2],\n",
    "    [0,                                 p-2*ln,    1/2,           0],\n",
    "    [0,                       -p+(p/ln)+2*ln-2,      0,         1/2]\n",
    "])\n",
    "\n",
    "# 1-5\n",
    "dir0_basis.add_multiple_of_column(0, 3, -2)\n",
    "dir0_basis.swap_columns(0, 3)\n",
    "dir0_basis.add_multiple_of_column(1, 3, -2*p + 4*ln)\n",
    "dir0_basis.add_multiple_of_column(3, 2, -2)\n",
    "dir0_basis = dir0_basis * diagonal_matrix([1,1,1,-1]) # change sign of col 4\n",
    "\n",
    "# 6-10\n",
    "dir0_basis.add_multiple_of_column(1, 3, 2)\n",
    "dir0_basis.add_multiple_of_column(2, 3, -(ln+1)/2)\n",
    "dir0_basis = dir0_basis * diagonal_matrix([1,1,-1,1]) # change sign of col 3\n",
    "dir0_basis.add_multiple_of_column(3, 2, -2)\n",
    "dir0_basis.add_multiple_of_column(1, 2, -2*(p+1)/ln)\n",
    "\n",
    "# 11-15\n",
    "dir0_basis.add_multiple_of_column(2, 1, (ln-1)/2)\n",
    "dir0_basis.add_multiple_of_column(1, 2, 2)\n",
    "dir0_basis.add_multiple_of_column(2, 1, -(p+1)/(2*ln^2))\n",
    "dir0_basis.add_multiple_of_column(1, 2, -2)\n",
    "dir0_basis.add_multiple_of_column(2, 3, 1-ln)\n",
    "\n",
    "# 16-20\n",
    "dir0_basis.add_multiple_of_column(1, 3, -2)\n",
    "dir0_basis.add_multiple_of_column(2, 1, -(ln-1)/2)\n",
    "dir0_basis.add_multiple_of_column(1, 2, 2)\n",
    "dir0_basis.add_multiple_of_column(1, 3, 3+2*p)\n",
    "dir0_basis.add_multiple_of_column(2, 3, p)\n",
    "\n",
    "#21 - 25\n",
    "dir0_basis.add_multiple_of_column(2, 1, (ln +1)/2)\n",
    "dir0_basis.add_multiple_of_column(1, 2, -2)\n",
    "dir0_basis.add_multiple_of_column(1, 3, 2*p - 1)\n",
    "dir0_basis = dir0_basis * diagonal_matrix([1,-1,1,1]) # change sign of col 2\n",
    "dir0_basis.swap_columns(1, 2)\n",
    "\n",
    "#26-30\n",
    "dir0_basis.add_multiple_of_column(3, 2, ln-1)\n",
    "dir0_basis = dir0_basis * diagonal_matrix([1,1,1,-1]) # change sign of col 4\n",
    "dir0_basis.add_multiple_of_column(1, 3, p + ((p+1)/ln))\n",
    "dir0_basis.add_multiple_of_column(1, 2, 1+p*ln-((p+1)/ln)-((ln-1)/2))\n",
    "dir0_basis.add_multiple_of_column(0, 1, ln*p*(ln-1))\n",
    "\n",
    "dir0_basis.add_multiple_of_column(0, 2, -ln*p*((ln-1)/2))\n",
    "dir0_basis.add_multiple_of_column(0, 3, -(ln*p*(ln-1)/2)+((p+1)/2)-((p+1)/(2*ln)))"
   ]
  },
  {
   "cell_type": "code",
   "execution_count": 2,
   "metadata": {},
   "outputs": [
    {
     "data": {
      "text/plain": [
       "[                1/2                   0                   0                   0]\n",
       "[                  0            1/(2*ln)                   0                   0]\n",
       "[                  0                 1/2                   1                   0]\n",
       "[             1/2*ln (1/2*ln^2 - 1/2)/ln                   0                  ln]"
      ]
     },
     "execution_count": 2,
     "metadata": {},
     "output_type": "execute_result"
    }
   ],
   "source": [
    "dir0_basis"
   ]
  },
  {
   "cell_type": "markdown",
   "metadata": {},
   "source": [
    "Which is exactly what we have in the paper"
   ]
  }
 ],
 "metadata": {
  "kernelspec": {
   "display_name": "SageMath 10.1.beta2",
   "language": "sage",
   "name": "sagemath"
  },
  "language_info": {
   "codemirror_mode": {
    "name": "ipython",
    "version": 3
   },
   "file_extension": ".py",
   "mimetype": "text/x-python",
   "name": "python",
   "nbconvert_exporter": "python",
   "pygments_lexer": "ipython3",
   "version": "3.10.6"
  }
 },
 "nbformat": 4,
 "nbformat_minor": 2
}
