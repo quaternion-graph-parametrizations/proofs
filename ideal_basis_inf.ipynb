{
 "cells": [
  {
   "cell_type": "markdown",
   "metadata": {},
   "source": [
    "Symbolic verification of the matrix reduction in the derivation of the basis of the connecting ideal $I$, for $d_0 = \\infty$."
   ]
  },
  {
   "cell_type": "code",
   "execution_count": 1,
   "metadata": {},
   "outputs": [],
   "source": [
    "K.<p, ln, d, a, b> = PolynomialRing(Rationals())\n",
    "\n",
    "# We start from the matrix in the proof (after p's have been removed)\n",
    "Ibasis = matrix(K, [\n",
    "        [(-d+1)/2,  (d-1)/2,  d,  1, ln/2,    0,  0,  0],\n",
    "        [ (d+1)/2, -(d+1)/2, -1,  d,    0, ln/2,  0,  0],\n",
    "        [ (d+1)/2, -(d+1)/2, -d,  1,    0, ln/2, ln,  0],\n",
    "        [(-d+1)/2,  (d-1)/2, -1, -d, ln/2,    0,  0, ln]\n",
    "])\n",
    "\n",
    "# Apply column operations from the proof\n",
    "# Warning: here columns are indexed from 0, in the paper they are indexed from 1\n",
    "\n",
    "# We swap two sets of columns\n",
    "Ibasis.swap_columns(0, 1)\n",
    "Ibasis.swap_columns(2, 3)\n",
    "\n",
    "# Then continue with the altered column operations from d_0 \\neq \\infty\n",
    "#    We add comments where the sign has been changed.\n",
    "Ibasis.add_multiple_of_column(1, 0, 1)  # c_2 -> c_2 + c_1\n",
    "Ibasis.add_multiple_of_column(3, 0, -2)  # c_4 -> c_4 - 2c_1\n",
    "Ibasis.add_multiple_of_column(3, 2, -1)\n",
    "Ibasis.add_multiple_of_column(4, 2, -(ln - 1)/2)\n",
    "Ibasis.add_multiple_of_column(2, 4, -2)\n",
    "Ibasis.add_multiple_of_column(2, 5, -2*d) # sign changed\n",
    "Ibasis.add_multiple_of_column(2, 6, -1+d) # sign changed\n",
    "Ibasis.add_multiple_of_column(2, 7, d+1)\n",
    "Ibasis.add_multiple_of_column(0, 4, -(d-1))\n",
    "Ibasis.add_multiple_of_column(0, 5, -d*(d-1)) # sign changed\n",
    "Ibasis.add_multiple_of_column(0, 6, d*(d-1)/2) # sign changed\n",
    "Ibasis.add_multiple_of_column(0, 7, d*(d-1)/2)\n",
    "Ibasis.add_multiple_of_column(1, 0, -a) # sign changed\n",
    "Ibasis.add_multiple_of_column(1, 5, b)\n",
    "Ibasis.add_multiple_of_column(0, 1, (d^2+1)) # sign changed\n",
    "Ibasis.add_multiple_of_column(0, 7, b*(d-1)*(ln-d-1)/2)\n",
    "Ibasis.add_multiple_of_column(0, 6, -b*(-2*d + d*(ln + d) - ln + 1)/2) # sign changed\n",
    "Ibasis.add_multiple_of_column(5, 1, -ln)\n",
    "Ibasis.add_multiple_of_column(5, 6, a*(2*d - d*(ln +d) + ln -1)/2)\n",
    "Ibasis.add_multiple_of_column(5, 7, a*(d-1)*(ln -d -1)/2) # sign changed\n",
    "Ibasis.add_multiple_of_column(1, 7, -(b*(ln + 1) + a*d*(d+1))/2) # sign changed\n",
    "Ibasis.add_multiple_of_column(1, 6, (a*d*(d+1) + b*(ln -1))/2)\n",
    "Ibasis.add_multiple_of_column(4, 1, d*(ln -1)) # sign changed\n",
    "Ibasis.add_multiple_of_column(4, 7, (d*(ln + 1 -2*a)-2*d)/2)\n",
    "Ibasis.add_multiple_of_column(4, 6, -(2*(1-a) + (d-2*b)*(ln -1))/2) # sign changed\n",
    "Ibasis.swap_columns(0, 4)\n",
    "Ibasis.swap_columns(2, 6)\n",
    "Ibasis.swap_columns(3, 7)\n",
    "Ibasis.add_multiple_of_column(1, 2, -1)\n",
    "\n",
    "# Now we substitute b = (1 - a*(d^2 + 1))/l^n  from the gcd relation\n",
    "Ibasis = matrix(4, 8, [r(b=(1 - a*(d^2 + 1))/ln) for r in Ibasis.list()])"
   ]
  },
  {
   "cell_type": "code",
   "execution_count": 2,
   "metadata": {},
   "outputs": [
    {
     "data": {
      "text/plain": [
       "[              1/2                 0                 0                 0                 0                 0                 0                 0]\n",
       "[                0               1/2                 0                 0                 0                 0                 0                 0]\n",
       "[-1/2*ln + a - 1/2      d*a - 1/2*ln                ln                 0                 0                 0                 0                 0]\n",
       "[    -d*a + 1/2*ln -1/2*ln + a - 1/2                 0                ln                 0                 0                 0                 0]"
      ]
     },
     "execution_count": 2,
     "metadata": {},
     "output_type": "execute_result"
    }
   ],
   "source": [
    "# This leaves us with exactly the basis given in the paper\n",
    "Ibasis"
   ]
  }
 ],
 "metadata": {
  "kernelspec": {
   "display_name": "SageMath 10.1.beta2",
   "language": "sage",
   "name": "sagemath"
  },
  "language_info": {
   "codemirror_mode": {
    "name": "ipython",
    "version": 3
   },
   "file_extension": ".py",
   "mimetype": "text/x-python",
   "name": "python",
   "nbconvert_exporter": "python",
   "pygments_lexer": "ipython3",
   "version": "3.10.6"
  }
 },
 "nbformat": 4,
 "nbformat_minor": 2
}
