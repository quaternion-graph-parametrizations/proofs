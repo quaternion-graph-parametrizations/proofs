{
 "cells": [
  {
   "cell_type": "markdown",
   "metadata": {},
   "source": [
    "Symbolic verification of the matrix K in the proof of the main theorem.\n",
    "\n",
    "The column operations given in `union.ipynb` are written as elementary matrices, and their product contains $K$ as a submatrix."
   ]
  },
  {
   "cell_type": "markdown",
   "metadata": {},
   "source": [
    "Functions returning the elementary matrices from different kinds of column operations."
   ]
  },
  {
   "cell_type": "code",
   "execution_count": 1,
   "metadata": {},
   "outputs": [],
   "source": [
    "def add_multiple_matrix(i, j, m):\n",
    "    \"\"\"Returns the elementary matrix corresponding to the column operation of adding 'm' multiples of column 'j' to column 'i'.\"\"\"\n",
    "    mat = identity_matrix(RR, 8)\n",
    "    matlist = mat.list()\n",
    "    matlist[8*j + i] = m\n",
    "    mat = matrix(8, matlist)\n",
    "    return mat\n",
    "\n",
    "def swap_column_matrix(i, j):\n",
    "    \"\"\"Returns the elementary matrix corresponding to swapping columns 'i' and 'j'.\"\"\"\n",
    "    mat = identity_matrix(RR, 8)\n",
    "    mat.swap_columns(i,j)\n",
    "    return mat\n",
    "\n",
    "def change_sign_matrix(i):\n",
    "    \"\"\"Returns the elementary matrix corresponding to changing the sign in column 'i'.\"\"\"\n",
    "    mat = identity_matrix(RR, 8)\n",
    "    mat.add_multiple_of_column(i, i, -2)\n",
    "    return mat\n",
    "\n",
    "def gcd_operation_matrix(idx1, idx2, g, u, v, c1i, c2i):\n",
    "    \"\"\"\n",
    "    Returns matrix (which can be decomposed to elementary matrices) corresponding to the gcd operation from a previous Lemma.\n",
    "    'idx1' - The index of the first column.\n",
    "    'idx2' - The index of the second column.\n",
    "    'g', 'u', 'v', 'c1i', 'c2i' - Gives the (potentially scaled gcd equation to use)\n",
    "        g = u*cli + v*c2i\n",
    "    \"\"\"\n",
    "    matlist = identity_matrix(RR, 8).list()\n",
    "    matlist[8*idx1 + idx1] = u\n",
    "    matlist[8*idx2 + idx1] = v\n",
    "    matlist[8*idx1 + idx2] = -(c2i/g)\n",
    "    matlist[8*idx2 + idx2] = (c1i/g)\n",
    "    return matrix(8, matlist)"
   ]
  },
  {
   "cell_type": "markdown",
   "metadata": {},
   "source": [
    "Now we multiply all matrices from the reduction symbolically:"
   ]
  },
  {
   "cell_type": "code",
   "execution_count": 2,
   "metadata": {},
   "outputs": [],
   "source": [
    "# We define column operation matrices over a polynomial ring\n",
    "RR.<A, B, p, ln, lg, lh, N, alpha, beta, Aprime, Bprime, gamma, delta> = PolynomialRing(Rationals())\n",
    "\n",
    "# Get the column operation matrix from multiplying the identity matrix by individual column operation matrices\n",
    "kmat = identity_matrix(RR, 8)\n",
    "kmat = kmat * add_multiple_matrix(1, 5, -1) # Gives zero column\n",
    "kmat = kmat * change_sign_matrix(5)\n",
    "kmat = kmat * swap_column_matrix(4, 5)\n",
    "kmat = kmat * swap_column_matrix(5, 6)\n",
    "kmat = kmat * swap_column_matrix(6, 7)\n",
    "kmat = kmat * add_multiple_matrix(7, 0, -1)\n",
    "kmat = kmat * gcd_operation_matrix(2, 5, lg, A, -B, p*ln, -N/ln)\n",
    "kmat = kmat * gcd_operation_matrix(3, 6, lg, A, -B, p*ln, -N/ln)\n",
    "kmat = kmat * gcd_operation_matrix(0, 5, lh, -Bprime, Aprime, lg, 2*alpha*p)\n",
    "kmat = kmat * gcd_operation_matrix(0, 6, 1, gamma, -delta, lh, 2*beta*p)\n",
    "kmat = kmat * swap_column_matrix(1, 4)\n",
    "kmat = kmat * change_sign_matrix(3)\n",
    "kmat = kmat * gcd_operation_matrix(4, 3, lh, Aprime, Bprime, 2*alpha*p, -lg)\n",
    "kmat = kmat * gcd_operation_matrix(2, 3, 1, gamma, delta, lh, -2*beta*p)\n",
    "kmat = kmat * add_multiple_matrix(3, 1, -2*lg)\n",
    "kmat = kmat * swap_column_matrix(3, 4)\n",
    "kmat = kmat * add_multiple_matrix(5, 7, -(2*alpha*p)/(lh))\n",
    "kmat = kmat * add_multiple_matrix(6, 7, 2*p*beta*Bprime)\n",
    "kmat = kmat * change_sign_matrix(7)\n",
    "kmat = kmat * swap_column_matrix(6, 7)\n",
    "kmat = kmat * swap_column_matrix(6, 5)\n",
    "kmat = kmat * swap_column_matrix(5,4)\n",
    "\n",
    "# Take the last 4 columns and top 4 rows to get the kernel matrix\n",
    "kernel_matrix = kmat.submatrix(0,4,4,4)\n",
    "# matrix K is the top 4 rows of the kernel matrix\n",
    "K = kernel_matrix.submatrix(0,0,4,4)"
   ]
  },
  {
   "cell_type": "markdown",
   "metadata": {},
   "source": [
    "This gives exactly the matrix $K$ in the paper."
   ]
  },
  {
   "cell_type": "code",
   "execution_count": 3,
   "metadata": {},
   "outputs": [
    {
     "data": {
      "text/plain": [
       "[(1, 0, 0, 0),\n",
       " (0, lg, 2*A*p*beta, -2*A*p*alpha),\n",
       " (0, 0, N/(ln*lh), 0),\n",
       " (0, 0, (-2*p*N*beta*Aprime)/(ln*lg), lh*N/(ln*lg))]"
      ]
     },
     "execution_count": 3,
     "metadata": {},
     "output_type": "execute_result"
    }
   ],
   "source": [
    "K.columns()"
   ]
  }
 ],
 "metadata": {
  "kernelspec": {
   "display_name": "SageMath 10.1.beta2",
   "language": "sage",
   "name": "sagemath"
  },
  "language_info": {
   "codemirror_mode": {
    "name": "ipython",
    "version": 3
   },
   "file_extension": ".py",
   "mimetype": "text/x-python",
   "name": "python",
   "nbconvert_exporter": "python",
   "pygments_lexer": "ipython3",
   "version": "3.10.6"
  }
 },
 "nbformat": 4,
 "nbformat_minor": 2
}
