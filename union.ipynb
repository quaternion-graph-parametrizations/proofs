{
 "cells": [
  {
   "cell_type": "markdown",
   "metadata": {},
   "source": [
    "Symbolic verification of the matrix reduction computing the basis of the union of ideals $J_1$ and $J_2$.\n",
    "\n",
    "We use the gcd column operation introduced in the previous Lemma:"
   ]
  },
  {
   "cell_type": "code",
   "execution_count": 1,
   "metadata": {},
   "outputs": [],
   "source": [
    "def gcd_operation(M, idx1, idx2, g, u, v, c1i, c2i):\n",
    "    \"\"\"\n",
    "    Given matrix M performs gcd column operations.\n",
    "    'idx1' - The index of the first column.\n",
    "    'idx2' - The index of the second column.\n",
    "    'g', 'u', 'v', 'c1i', 'c2i' - Gives the (potentially scaled gcd equation to use)\n",
    "        g = u*cli + v*c2i\n",
    "    \"\"\"\n",
    "    columns = M.columns()\n",
    "    col1 = columns[idx1]\n",
    "    col2 = columns[idx2]\n",
    "    newcol1 = u * col1 + v * col2\n",
    "    newcol2 = -(c2i/g)*col1 + (c1i/g)*col2\n",
    "    columns[idx1] = newcol1\n",
    "    columns[idx2] = newcol2\n",
    "    return column_matrix(columns)"
   ]
  },
  {
   "cell_type": "markdown",
   "metadata": {},
   "source": [
    "Now we do do the reduction symbolically:"
   ]
  },
  {
   "cell_type": "code",
   "execution_count": 2,
   "metadata": {},
   "outputs": [],
   "source": [
    "RR.<A, B, p, ln, lg, lh, N, alpha, beta, Aprime, Bprime, gamma, delta> = PolynomialRing(Rationals())\n",
    "\n",
    "# The matrix we start with\n",
    "union_basis = matrix([\n",
    "    [ 1,           0,  (p*alpha*ln)/N,    (p*beta*ln)/N,  1,   0,    alpha/ln,      beta/ln ],\n",
    "    [ 0,  1/(2*N) -1,   (p*beta*ln)/N,  -(p*alpha*ln)/N,  0,  -1,    -beta/ln,     alpha/ln ],\n",
    "    [ 0,     -beta/N,        ln/(2*N),                0,  0,   0, -1/(2*ln*p),            0 ],\n",
    "    [ 0,     alpha/N,               0,         ln/(2*N),  0,   0,            0, -1/(2*p*ln) ]])\n",
    "\n",
    "# Apply column operations from proof\n",
    "# Warning: here columns are indexed from 0, in the paper they are indexed from 1\n",
    "\n",
    "union_basis.add_multiple_of_column(1, 5, -1)  # c_2 -> c_2 - c_6\n",
    "union_basis = union_basis * diagonal_matrix([1,1,1,1,1,-1,1,1]) # change sign of col 6\n",
    "union_basis.add_multiple_of_column(4, 0, -1)\n",
    "union_basis = gcd_operation(union_basis, 2, 6, lg, A, -B, p*ln, -N/ln)\n",
    "union_basis = gcd_operation(union_basis, 3, 7, lg, A, -B, p*ln, -N/ln)\n",
    "union_basis = gcd_operation(union_basis, 0, 6, lh, -Bprime, Aprime, lg, 2*alpha*p)\n",
    "union_basis = gcd_operation(union_basis, 0, 7, 1, gamma, -delta, lh, 2*beta*p)\n",
    "union_basis = union_basis * diagonal_matrix([1,1,1,-1,1,1,1,1]) # change sign of col 4\n",
    "union_basis = gcd_operation(union_basis, 1, 3, lh, Aprime, Bprime, 2*alpha*p, -lg)\n",
    "union_basis = gcd_operation(union_basis, 2, 3, 1, gamma, delta, lh, -2*beta*p)\n",
    "union_basis.add_multiple_of_column(3, 5, -2*lg)\n",
    "union_basis.add_multiple_of_column(6, 4, -(2*alpha*p)/lh)\n",
    "union_basis.add_multiple_of_column(7, 4, 2*p*beta*Bprime)\n",
    "union_basis = union_basis * diagonal_matrix([1,1,1,1,-1,1,1,-1]) # change sign of col 5\n",
    "union_basis.swap_columns(1, 3)\n",
    "union_basis.swap_columns(1, 5)\n",
    "\n",
    "# Now we substitute  gamma = (1 + 2*delta*beta*p)/lh  from the gcd relation\n",
    "union_basis = matrix(4, 8, [r(gamma=(1 + 2*delta*beta*p)/lh) for r in union_basis.list()])\n",
    "\n",
    "# And  Bprime = (Aprime*2*alpha*p - lh)/lg\n",
    "union_basis = matrix(4, 8, [r(Bprime = (Aprime*2*alpha*p - lh)/lg) for r in union_basis.list()])\n",
    "\n",
    "# And  B = (lg - A*p*ln)*ln/N\n",
    "union_basis = matrix(4, 8, [r(B = (lg - A*p*ln)*ln/N) for r in union_basis.list()])"
   ]
  },
  {
   "cell_type": "code",
   "execution_count": 3,
   "metadata": {},
   "outputs": [
    {
     "data": {
      "text/plain": [
       "[                                                                                             1/lg                                                                                                 0                                                                (2*A*p*ln*alpha - lg*alpha)/(lh*N) (-4*A*p^2*ln*alpha*beta*Aprime + 2*A*p*ln*lh*beta + 2*p*lg*alpha*beta*Aprime - lg*lh*beta)/(lg*N)                                                                                                 0                                                                                                 0                                                                                                 0                                                                                                 0]\n",
       "[                                                                                                0                                                                                                 1                      (4*p*lg*alpha^2*delta + 4*p*lg*beta^2*delta + 2*lg*beta + lg*delta)/(2*lh*N)                                                  (4*p*alpha^2*Aprime - 2*lh*alpha + Aprime)/(2*N)                                                                                                 0                                              (4*p*lg*alpha^2 + 4*p*lg*beta^2 - 4*lg*N + lg)/(2*N)                                                                                                 0                                                                                                 0]\n",
       "[                                                                                                0                                                                                                 0                                                                                   2*lg/(4*p*lh*N)                                                                                  (-beta*Aprime)/N                                                                                                 0                                                                                                 0                                                                                                 0                                                                                                 0]\n",
       "[                                                                                                0                                                                                                 0                                                                                                 0                                                                                      2*lh/(4*p*N)                                                                                                 0                                                                                                 0                                                                                                 0                                                                                                 0]"
      ]
     },
     "execution_count": 3,
     "metadata": {},
     "output_type": "execute_result"
    }
   ],
   "source": [
    "union_basis"
   ]
  },
  {
   "cell_type": "markdown",
   "metadata": {},
   "source": [
    "Almost all these entries are as stated in the paper - with 4 exceptions which we check below."
   ]
  },
  {
   "cell_type": "code",
   "execution_count": 4,
   "metadata": {},
   "outputs": [
    {
     "data": {
      "text/plain": [
       "(4*p*lg*alpha^2*delta + 4*p*lg*beta^2*delta + 2*lg*beta + lg*delta)/(2*lh*N)"
      ]
     },
     "execution_count": 4,
     "metadata": {},
     "output_type": "execute_result"
    }
   ],
   "source": [
    "union_basis.column(2)[1]"
   ]
  },
  {
   "cell_type": "markdown",
   "metadata": {},
   "source": [
    "That is:\n",
    "$$\\frac{l^{g-h} \\delta (4p \\alpha^2 + 4p\\beta^2) + 2l^{g-h} \\beta + l^{g-h} \\delta}{2N}$$\n",
    "For which we use the definition of $N$.\n",
    "$$4N = 1 + 4p\\alpha^2 + 4p\\beta^2$$\n",
    "so the above value becomes\n",
    "$$\\frac{l^{g-h} \\delta (4N-1) + 2l^{g-h} \\beta + l^{g-h} \\delta}{2N}$$\n",
    "Giving, as it is in the paper,\n",
    "$$\\frac{l^{g-h} (\\beta + 2N\\delta)}{N}$$\n"
   ]
  },
  {
   "cell_type": "code",
   "execution_count": 5,
   "metadata": {},
   "outputs": [
    {
     "data": {
      "text/plain": [
       "(-4*A*p^2*ln*alpha*beta*Aprime + 2*A*p*ln*lh*beta + 2*p*lg*alpha*beta*Aprime - lg*lh*beta)/(lg*N)"
      ]
     },
     "execution_count": 5,
     "metadata": {},
     "output_type": "execute_result"
    }
   ],
   "source": [
    "union_basis.column(3)[0]"
   ]
  },
  {
   "cell_type": "markdown",
   "metadata": {},
   "source": [
    "$$\\frac{-4Ap^2 l^{n-g} \\alpha \\beta A' + 2Apl^{n-g}l^h\\beta + 2p\\alpha \\beta A' - l^h \\beta}{N}$$\n",
    "Where we substitute $2\\alpha p A' = l^g B' + l^h$\n",
    "$$\\frac{-2Ap l^{n-g} \\beta (l^g B' + l^h) + 2Apl^{n-g}l^h\\beta + \\beta (l^g B' + l^h) - l^h \\beta}{N}$$\n",
    "Which simplifies to the result in the paper\n",
    "$$\\frac{-2Ap l^n \\beta B' + \\beta l^g B'}{N}$$"
   ]
  },
  {
   "cell_type": "code",
   "execution_count": 6,
   "metadata": {},
   "outputs": [
    {
     "data": {
      "text/plain": [
       "(4*p*alpha^2*Aprime - 2*lh*alpha + Aprime)/(2*N)"
      ]
     },
     "execution_count": 6,
     "metadata": {},
     "output_type": "execute_result"
    }
   ],
   "source": [
    "union_basis.column(3)[1]"
   ]
  },
  {
   "cell_type": "markdown",
   "metadata": {},
   "source": [
    "$$\\frac{4p\\alpha^2 A' - 2l^h \\alpha + A'}{2N}$$\n",
    "Again we use the relation $2\\alpha p A' = l^g B' + l^h$\n",
    "$$\\frac{2\\alpha (l^g B' + l^h) - 2l^h \\alpha + A'}{2N}$$\n",
    "Which simplifies to the correct value\n",
    "$$\\frac{2 B' l^g \\alpha + A'}{2N}$$\n"
   ]
  },
  {
   "cell_type": "code",
   "execution_count": 7,
   "metadata": {},
   "outputs": [
    {
     "data": {
      "text/plain": [
       "(4*p*lg*alpha^2 + 4*p*lg*beta^2 - 4*lg*N + lg)/(2*N)"
      ]
     },
     "execution_count": 7,
     "metadata": {},
     "output_type": "execute_result"
    }
   ],
   "source": [
    "union_basis.column(5)[1]"
   ]
  },
  {
   "cell_type": "markdown",
   "metadata": {},
   "source": [
    "$$\\frac{4pl^g \\alpha^2 + 4pl^g \\beta^2 - 4l^g N + l^g}{2N}$$"
   ]
  },
  {
   "cell_type": "markdown",
   "metadata": {},
   "source": [
    "We use $4N = 1 + 4p(\\alpha^2 + \\beta^2)$"
   ]
  },
  {
   "cell_type": "markdown",
   "metadata": {},
   "source": [
    "$$\\frac{4p l^g(\\alpha^2 + \\beta^2) - 4l^g N + l^g}{2N} = \\frac{l^g(4N - 1) - 4l^g N + l^g}{2N} = 0$$"
   ]
  }
 ],
 "metadata": {
  "kernelspec": {
   "display_name": "SageMath 10.1.beta2",
   "language": "sage",
   "name": "sagemath"
  },
  "language_info": {
   "codemirror_mode": {
    "name": "ipython",
    "version": 3
   },
   "file_extension": ".py",
   "mimetype": "text/x-python",
   "name": "python",
   "nbconvert_exporter": "python",
   "pygments_lexer": "ipython3",
   "version": "3.10.6"
  }
 },
 "nbformat": 4,
 "nbformat_minor": 2
}
